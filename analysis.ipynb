{
  "cells": [
    {
      "cell_type": "code",
      "source": [
        "import dallinger\n",
        "import numpy as np\n",
        "\n",
        "import glob, os\n",
        "import json"
      ],
      "outputs": [],
      "execution_count": null,
      "metadata": {
        "collapsed": false,
        "outputHidden": false,
        "inputHidden": false
      }
    },
    {
      "cell_type": "code",
      "source": [
        "# Load in the data sets.\n",
        "\n",
        "os.chdir(\"data\")\n",
        "data_ids = []\n",
        "for file in glob.glob(\"*.zip\"):\n",
        "    data_ids.append(file[:-9])\n",
        "os.chdir(\"..\")\n",
        "\n",
        "for i in data_ids:\n",
        "    data = dallinger.data.load(i)\n",
        "    print(data)"
      ],
      "outputs": [],
      "execution_count": null,
      "metadata": {
        "collapsed": false,
        "outputHidden": false,
        "inputHidden": false
      }
    }
  ],
  "metadata": {
    "kernelspec": {
      "name": "python2",
      "language": "python",
      "display_name": "Python 2"
    },
    "kernel_info": {
      "name": "python2"
    },
    "language_info": {
      "mimetype": "text/x-python",
      "nbconvert_exporter": "python",
      "name": "python",
      "pygments_lexer": "ipython2",
      "version": "2.7.13",
      "file_extension": ".py",
      "codemirror_mode": {
        "version": 2,
        "name": "ipython"
      }
    }
  },
  "nbformat": 4,
  "nbformat_minor": 4
}